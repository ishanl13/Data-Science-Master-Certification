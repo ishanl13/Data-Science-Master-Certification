{
 "cells": [
  {
   "cell_type": "markdown",
   "id": "21ba1dfa",
   "metadata": {},
   "source": [
    "## Assignment - 1"
   ]
  },
  {
   "cell_type": "markdown",
   "id": "df8be733",
   "metadata": {},
   "source": [
    "### 1. In the below elements which of them are values or an expression? eg:- values can be integer or string and expressions will be mathematical operators.\n",
    "\n",
    "1. * \n",
    "2. 'hello'\n",
    "3. -87.8\n",
    "4. - \n",
    "5. /\n",
    "6. +\t\n",
    "7. 6 "
   ]
  },
  {
   "cell_type": "markdown",
   "id": "e172c942",
   "metadata": {},
   "source": [
    "#### Answer 1\n",
    "1. Integer: 6\n",
    "2. Float: -87.8\n",
    "3. String: 'hello'\n",
    "4. Expressions: *,-,/ and ."
   ]
  },
  {
   "cell_type": "markdown",
   "id": "e3459b06",
   "metadata": {},
   "source": [
    "### 2. What is the difference between string and variable?"
   ]
  },
  {
   "cell_type": "markdown",
   "id": "b516786c",
   "metadata": {},
   "source": [
    "#### Answer 2\n",
    "\n",
    "a) Variable: It is a space that we create to store the data in it, the data stored in a variable can be a string, integer, float etc. and according to that the type of variable changes. \n",
    "\n",
    "eg: A = \"ineuron\" , here \"A\" is a variable in which \"ineuron\" is stored. \n",
    "\n",
    "b) String: It is a data type that we store in a variable. In above example \"ineuron\" is a string data type."
   ]
  },
  {
   "cell_type": "markdown",
   "id": "75f5834a",
   "metadata": {},
   "source": [
    "### 3. Describe three different data types."
   ]
  },
  {
   "cell_type": "markdown",
   "id": "3ee2f003",
   "metadata": {},
   "source": [
    "#### Answer 3\n",
    "\n",
    "1. int data type : It holds positive and negative whole numbers. Eg. -1,-2,-4,1,2,3,4 etc.\n",
    "2. float data type : It represents real numbers, both positive and negative. Eg. - 1, 2, 2.5, 3.5365, 6.432532 etc.\n",
    "3. string data type : Data like \"ineuron\", \"ram\" etc are string data types. String data type have length, it means we can check the length of string data type using built in len function. "
   ]
  },
  {
   "cell_type": "markdown",
   "id": "99d0aa9b",
   "metadata": {},
   "source": [
    "### 4. What is an expression made up of? What do all expressions do?"
   ]
  },
  {
   "cell_type": "markdown",
   "id": "d7cf2ce3",
   "metadata": {},
   "source": [
    "#### Answer 4\n",
    "\n",
    "Expression is a combination of operators and varianle which is formed to produce some other values. "
   ]
  },
  {
   "cell_type": "code",
   "execution_count": 13,
   "id": "91e123e4",
   "metadata": {},
   "outputs": [
    {
     "name": "stdout",
     "output_type": "stream",
     "text": [
      "7\n"
     ]
    }
   ],
   "source": [
    "## Example- \n",
    "## Operator - + (sum)\n",
    "## Varbales \"a\" and \"b\"\n",
    "## Value \"c\"\n",
    "\n",
    "## Expression \n",
    "\n",
    "a = 2\n",
    "b = 5\n",
    "\n",
    "c = a+b\n",
    "\n",
    "print(c)"
   ]
  },
  {
   "cell_type": "markdown",
   "id": "e7c65260",
   "metadata": {},
   "source": [
    "### 5. This assignment statements, like spam = 10. What is the difference between an expression and a statement?"
   ]
  },
  {
   "cell_type": "markdown",
   "id": "835fe792",
   "metadata": {},
   "source": [
    "#### Answer 5\n",
    "\n",
    "Expression is formed to evaluates or produce a value (what is being shown in above problem) but statement is used to create a variable or displaying a value"
   ]
  },
  {
   "cell_type": "markdown",
   "id": "60153d64",
   "metadata": {},
   "source": [
    "### 6. After running the following code, what does the variable bacon contain?\n",
    "#### bacon = 22\n",
    "#### bacon + 1\n"
   ]
  },
  {
   "cell_type": "markdown",
   "id": "914186ac",
   "metadata": {},
   "source": [
    "#### Answer 6\n",
    "\n",
    "Variable bacon will contain same value 22 as contained in the very begining. It is beacuae in the second statement bacon+1 nothing is saved in varibale bacon, hence value is not changed. "
   ]
  },
  {
   "cell_type": "code",
   "execution_count": 14,
   "id": "338febe8",
   "metadata": {},
   "outputs": [
    {
     "data": {
      "text/plain": [
       "23"
      ]
     },
     "execution_count": 14,
     "metadata": {},
     "output_type": "execute_result"
    }
   ],
   "source": [
    "bacon = 22\n",
    "bacon +1 "
   ]
  },
  {
   "cell_type": "code",
   "execution_count": 15,
   "id": "53e09f4b",
   "metadata": {},
   "outputs": [
    {
     "data": {
      "text/plain": [
       "22"
      ]
     },
     "execution_count": 15,
     "metadata": {},
     "output_type": "execute_result"
    }
   ],
   "source": [
    "bacon"
   ]
  },
  {
   "cell_type": "markdown",
   "id": "cf4799c6",
   "metadata": {},
   "source": [
    "### 7. What should the values of the following two terms be?\n",
    "#### 'spam' + 'spamspam'\n",
    "#### 'spam' * 3"
   ]
  },
  {
   "cell_type": "markdown",
   "id": "f1fa787c",
   "metadata": {},
   "source": [
    "#### Answer 7\n",
    "\n",
    "The values for both the expressions will be same. Please have a look at the executions below."
   ]
  },
  {
   "cell_type": "code",
   "execution_count": 16,
   "id": "83481b7f",
   "metadata": {},
   "outputs": [
    {
     "data": {
      "text/plain": [
       "'spamspamspam'"
      ]
     },
     "execution_count": 16,
     "metadata": {},
     "output_type": "execute_result"
    }
   ],
   "source": [
    "\"spam\" + \"spamspam\""
   ]
  },
  {
   "cell_type": "code",
   "execution_count": 17,
   "id": "314087b9",
   "metadata": {},
   "outputs": [
    {
     "data": {
      "text/plain": [
       "'spamspamspam'"
      ]
     },
     "execution_count": 17,
     "metadata": {},
     "output_type": "execute_result"
    }
   ],
   "source": [
    "\"spam\"*3"
   ]
  },
  {
   "cell_type": "markdown",
   "id": "fd9e8685",
   "metadata": {},
   "source": [
    "### 8. Why is eggs a valid variable name while 100 is invalid?"
   ]
  },
  {
   "cell_type": "markdown",
   "id": "e41953e4",
   "metadata": {},
   "source": [
    "#### Answer 8\n",
    "\n",
    "It is because variable can't start from an integer or float. If it is needed to name a variable in form of an integer we can use _ in the begining of the integer, then the varibale will start as \"_100\" which eventually becomes a string."
   ]
  },
  {
   "cell_type": "code",
   "execution_count": 20,
   "id": "9f73b539",
   "metadata": {},
   "outputs": [
    {
     "ename": "SyntaxError",
     "evalue": "cannot assign to literal (2402410718.py, line 3)",
     "output_type": "error",
     "traceback": [
      "\u001b[1;36m  Input \u001b[1;32mIn [20]\u001b[1;36m\u001b[0m\n\u001b[1;33m    100 = 6\u001b[0m\n\u001b[1;37m    ^\u001b[0m\n\u001b[1;31mSyntaxError\u001b[0m\u001b[1;31m:\u001b[0m cannot assign to literal\n"
     ]
    }
   ],
   "source": [
    "### Example\n",
    "\n",
    "100 = 6"
   ]
  },
  {
   "cell_type": "code",
   "execution_count": 21,
   "id": "d0bcf426",
   "metadata": {},
   "outputs": [],
   "source": [
    "_100 = 6"
   ]
  },
  {
   "cell_type": "markdown",
   "id": "29d0761c",
   "metadata": {},
   "source": [
    "### 9. What three functions can be used to get the integer, floating-point number, or string version of a value?"
   ]
  },
  {
   "cell_type": "markdown",
   "id": "d3ea298c",
   "metadata": {},
   "source": [
    "#### Answer 9\n",
    "\n",
    "integer -> int()\n",
    "\n",
    "float -> float()\n",
    "\n",
    "string -> str()"
   ]
  },
  {
   "cell_type": "markdown",
   "id": "0c65e91a",
   "metadata": {},
   "source": [
    "### 10. Why does this expression cause an error? How can you fix it?\n",
    "\n",
    "#### 'I have eaten ' + 99 + ' burritos.'\n"
   ]
  },
  {
   "cell_type": "markdown",
   "id": "ffa39c6f",
   "metadata": {},
   "source": [
    "#### Answer 10\n",
    "\n",
    "By putting 99 into quotes and converting int as string. It is because concatination is not possible for a mix of int and str data types.  "
   ]
  },
  {
   "cell_type": "code",
   "execution_count": 25,
   "id": "db689420",
   "metadata": {},
   "outputs": [
    {
     "data": {
      "text/plain": [
       "'I have eaten 99 burritos.'"
      ]
     },
     "execution_count": 25,
     "metadata": {},
     "output_type": "execute_result"
    }
   ],
   "source": [
    "## Example\n",
    "\n",
    "'I have eaten' + \" \" + '99' \" \" + 'burritos.'"
   ]
  }
 ],
 "metadata": {
  "kernelspec": {
   "display_name": "Python 3 (ipykernel)",
   "language": "python",
   "name": "python3"
  },
  "language_info": {
   "codemirror_mode": {
    "name": "ipython",
    "version": 3
   },
   "file_extension": ".py",
   "mimetype": "text/x-python",
   "name": "python",
   "nbconvert_exporter": "python",
   "pygments_lexer": "ipython3",
   "version": "3.9.12"
  }
 },
 "nbformat": 4,
 "nbformat_minor": 5
}
